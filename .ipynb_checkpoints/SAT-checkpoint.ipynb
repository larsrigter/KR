{
 "cells": [
  {
   "cell_type": "code",
   "execution_count": 216,
   "metadata": {},
   "outputs": [],
   "source": [
    "constraints=[\"-1 -2 5 0\",\n",
    "             \"-5 1 0\",\n",
    "             \"-5 2 0\",\n",
    "             \"-3 6 0\",\n",
    "             \"-6 3 0\",\n",
    "             \"9 0\",\n",
    "]"
   ]
  },
  {
   "cell_type": "code",
   "execution_count": 217,
   "metadata": {},
   "outputs": [],
   "source": [
    "from copy import deepcopy\n",
    "import random"
   ]
  },
  {
   "cell_type": "code",
   "execution_count": 244,
   "metadata": {},
   "outputs": [
    {
     "name": "stdout",
     "output_type": "stream",
     "text": [
      "{-1: [0], -2: [0], 5: [0], -5: [1, 2], 1: [1], 2: [2], -3: [3], 6: [3], -6: [4], 3: [4], 9: [5]}\n"
     ]
    }
   ],
   "source": [
    "constraintDict={}\n",
    "literalsDict={}\n",
    "i=0\n",
    "for clause in constraints:\n",
    "    if i not in constraintDict.keys():\n",
    "        constraintDict[i]={}\n",
    "        \n",
    "    for literal in clause.split():\n",
    "        lit=int(literal)\n",
    "        if lit!=0:\n",
    "            constraintDict[i][lit]=False\n",
    "            if lit not in literalsDict.keys():\n",
    "                literalsDict[lit]=[i]\n",
    "            else:\n",
    "                literalsDict[lit].append(i)\n",
    "    i+=1\n",
    "# print(constraintDict)\n",
    "print(literalsDict)"
   ]
  },
  {
   "cell_type": "code",
   "execution_count": 220,
   "metadata": {},
   "outputs": [
    {
     "name": "stdout",
     "output_type": "stream",
     "text": [
      "0\n"
     ]
    }
   ],
   "source": [
    "hallo={}\n",
    "hallo[1]=5\n",
    "del hallo[1]\n",
    "print(len(hallo))"
   ]
  },
  {
   "cell_type": "code",
   "execution_count": 293,
   "metadata": {},
   "outputs": [
    {
     "data": {
      "text/plain": [
       "True"
      ]
     },
     "execution_count": 293,
     "metadata": {},
     "output_type": "execute_result"
    }
   ],
   "source": [
    "assignments={}\n",
    "def DP(constraints,literalsDict):\n",
    "#     print(len(constraints))\n",
    "    if len(constraints)==0:\n",
    "#         print(\"satisfiable solution\")\n",
    "        return True\n",
    "   \n",
    "    if emptyClause(constraints):\n",
    "#         print(\"no satisfiability\")\n",
    "        return False\n",
    "    #maybe do it one time beforehand\n",
    "    hasFound,constraints=tautology(constraints)\n",
    "    if hasFound:\n",
    "#         print(\"taut\")\n",
    "        DP(constraints,literalsDict)\n",
    "        \n",
    "    hasFound,constraints=unitCl(constraints,literalsDict)\n",
    "    if hasFound:\n",
    "#         print(\"unit\")\n",
    "        DP(constraints,literalsDict)\n",
    "        \n",
    "    hasFound,constraints=pureLit(constraints,literalsDict)\n",
    "    if hasFound:\n",
    "#         print(\"pure lit\")\n",
    "        DP(constraints,literalsDict)\n",
    "    if len(constraints)==0:\n",
    "#         print(\"satisfiable solution\")\n",
    "        return True\n",
    "                \n",
    "    reducedConstraints,literal=pickRandomLiteral(constraints,literalsDict,None)\n",
    "#     print(len(constraints),len(reducedConstraints))\n",
    "    if DP(reducedConstraints,literalsDict)==True:\n",
    "#         print(\"satisfiable solution\")\n",
    "        return True\n",
    "    else:\n",
    "        print(literal)\n",
    "        reducedConstraints,literal=pickRandomLiteral(constraints,literalsDict,-1*literal)\n",
    "        print(len(constraints),len(reducedConstraints))\n",
    "        DP(reducedConstraints,literalsDict)\n",
    "\n",
    "DP(constraintDict,literalsDict)"
   ]
  },
  {
   "cell_type": "code",
   "execution_count": null,
   "metadata": {},
   "outputs": [],
   "source": []
  },
  {
   "cell_type": "code",
   "execution_count": 224,
   "metadata": {},
   "outputs": [],
   "source": [
    "def emptyClause(constraints):\n",
    "    for clause in constraints.keys():\n",
    "        if not constraints[clause]:\n",
    "            return True\n",
    "    return False"
   ]
  },
  {
   "cell_type": "code",
   "execution_count": 225,
   "metadata": {},
   "outputs": [
    {
     "data": {
      "text/plain": [
       "dict_keys([0, 1, 2, 3, 4, 5])"
      ]
     },
     "execution_count": 225,
     "metadata": {},
     "output_type": "execute_result"
    }
   ],
   "source": [
    "constraintDict.keys()"
   ]
  },
  {
   "cell_type": "code",
   "execution_count": 226,
   "metadata": {},
   "outputs": [
    {
     "data": {
      "text/plain": [
       "(False,\n",
       " {0: {-1: False, -2: False, 5: False},\n",
       "  1: {-5: False, 1: False},\n",
       "  2: {-5: False, 2: False},\n",
       "  3: {-3: False, 6: False},\n",
       "  4: {-6: False, 3: False},\n",
       "  5: {9: False}})"
      ]
     },
     "execution_count": 226,
     "metadata": {},
     "output_type": "execute_result"
    }
   ],
   "source": [
    "def tautology(constr):\n",
    "    constraints=deepcopy(constr)\n",
    "\n",
    "    foundOne=False\n",
    "    delClauses=[]\n",
    "    for clause in constraints.keys():\n",
    "        literals=list(constraints[clause].keys())\n",
    "        counterLiterals=[-x for x in literals]\n",
    "        \n",
    "        for i in literals:\n",
    "            for j in counterLiterals:\n",
    "                if i==j:\n",
    "                    delClauses.append(clause)\n",
    "                    foundOne=True\n",
    "                    break\n",
    "    for clause in delClauses:\n",
    "        try:\n",
    "            del constraints[clause]\n",
    "        except:\n",
    "            continue\n",
    "                  \n",
    "    return foundOne,constraints\n",
    "tautology(constraintDict)     "
   ]
  },
  {
   "cell_type": "code",
   "execution_count": 227,
   "metadata": {},
   "outputs": [
    {
     "data": {
      "text/plain": [
       "(True,\n",
       " {0: {-1: False, -2: False, 5: False},\n",
       "  1: {-5: False, 1: False},\n",
       "  2: {-5: False, 2: False},\n",
       "  3: {-3: False, 6: False},\n",
       "  4: {-6: False, 3: False}})"
      ]
     },
     "execution_count": 227,
     "metadata": {},
     "output_type": "execute_result"
    }
   ],
   "source": [
    "def unitCl(constr,literalsDict):\n",
    "    constraints=deepcopy(constr)\n",
    "    literals=[]\n",
    "    delClauses=[]\n",
    "    for clause in constraints.keys():\n",
    "        if len(constraints[clause].keys())==1:\n",
    "            literal=list(constraints[clause].keys())\n",
    "            for i in literal:\n",
    "                literals.append(i)\n",
    "            delClauses.append(clause)\n",
    "#     print(literals)\n",
    "    for literal in literals:\n",
    "        clauses=literalsDict[literal]\n",
    "        for clause in clauses:\n",
    "            delClauses.append(clause)\n",
    "    for clause in delClauses:\n",
    "        try:\n",
    "            del constraints[clause]\n",
    "        except:\n",
    "            continue\n",
    "            \n",
    "    counterLiterals=[-x for x in literals]\n",
    "    for literal in counterLiterals:\n",
    "        try:\n",
    "            clauses=literalsDict[literal]\n",
    "        except:\n",
    "            continue\n",
    "        for clause in clauses:\n",
    "            try:\n",
    "                del constraints[clause][literal]\n",
    "            except:\n",
    "                continue\n",
    "    \n",
    "    if len(literals)>0: \n",
    "        return True,constraints\n",
    "    else:\n",
    "        return False,constraints\n",
    "unitCl(constraintDict,literalsDict)"
   ]
  },
  {
   "cell_type": "code",
   "execution_count": 273,
   "metadata": {},
   "outputs": [
    {
     "name": "stdout",
     "output_type": "stream",
     "text": [
      "{0: {-1: False, -2: False, 5: False}, 1: {-5: False, 1: False}, 2: {-5: False, 2: False}, 3: {-3: False, 6: False}, 4: {-6: False, 3: False}, 5: {9: False}}\n",
      "{0: {-1: False, -2: False, 5: False}, 1: {-5: False, 1: False}, 2: {-5: False, 2: False}, 3: {-3: False, 6: False}, 4: {-6: False, 3: False}}\n",
      "{0: {-1: False, -2: False, 5: False}, 1: {-5: False, 1: False}, 2: {-5: False, 2: False}, 3: {-3: False, 6: False}, 4: {-6: False, 3: False}}\n"
     ]
    }
   ],
   "source": [
    "def pureLit(constr,litDict):\n",
    "    constraints=deepcopy(constr)\n",
    "\n",
    "    foundOne=False\n",
    "    literals=[]\n",
    "    for clause in constraints.keys():\n",
    "        for literal in constraints[clause].keys():\n",
    "            literals.append(literal)    \n",
    "    doubleLiterals=[]\n",
    "    counterLiterals=[-x for x in literals]\n",
    "    for i in literals:\n",
    "        for j in counterLiterals:\n",
    "            if i==j:\n",
    "                doubleLiterals.append(i)\n",
    "    singleLiterals=[x for x in literals if x not in doubleLiterals]\n",
    "    \n",
    "#     print(singleLiterals,litDict)\n",
    "#     print(singleLiterals)\n",
    "#     print(doubleLiterals)\n",
    "#     print(singleLiterals)\n",
    "    \n",
    "    for literal in singleLiterals:\n",
    "        for clause in litDict[literal]:\n",
    "#             print(literal,clause)\n",
    "            try:\n",
    "                del constraints[clause]\n",
    "            except:\n",
    "                continue\n",
    "#     print(singleLiterals)  \n",
    "    if len(singleLiterals)>0:\n",
    "        foundOne=True\n",
    "    \n",
    "    counterLiterals=[-x for x in singleLiterals]   \n",
    "    for literal in counterLiterals:\n",
    "        try:\n",
    "            clauses=litDict[literal]\n",
    "        except:\n",
    "            continue\n",
    "        for clause in clauses:\n",
    "            try:\n",
    "                del constraints[clause][literal]\n",
    "            except:\n",
    "                continue\n",
    "    return foundOne,constraints\n",
    "f,c=pureLit(constraintDict,literalsDict)\n",
    "print(constraintDict)\n",
    "print(c)\n",
    "f,c=pureLit(c,literalsDict)\n",
    "print(c)"
   ]
  },
  {
   "cell_type": "code",
   "execution_count": 291,
   "metadata": {},
   "outputs": [
    {
     "data": {
      "text/plain": [
       "({0: {-1: False, -2: False, 5: False},\n",
       "  1: {-5: False, 1: False},\n",
       "  2: {-5: False, 2: False},\n",
       "  4: {-6: False},\n",
       "  5: {9: False}},\n",
       " -3)"
      ]
     },
     "execution_count": 291,
     "metadata": {},
     "output_type": "execute_result"
    }
   ],
   "source": [
    "def pickRandomLiteral(constr,litDict,prevLit):\n",
    "    constraints=deepcopy(constr)\n",
    "#     print(constraints)\n",
    "\n",
    "    literals=[]\n",
    "    if not prevLit:\n",
    "        for clause in constraints.keys():\n",
    "            for literal in constraints[clause].keys():\n",
    "                literals.append(literal)\n",
    "        literal=random.choice(list(set(literals)))\n",
    "    else:\n",
    "        literal=prevLit\n",
    "\n",
    "    clauses=litDict[literal]\n",
    "#     print(clauses)\n",
    "    for clause in clauses:\n",
    "        try:\n",
    "            del constraints[clause]\n",
    "        except:\n",
    "            continue\n",
    "    counterLiteral=-literal\n",
    "    try:\n",
    "        clauses=litDict[counterLiteral]\n",
    "    except:\n",
    "        return constraints\n",
    "    for clause in clauses:\n",
    "        try:\n",
    "            del constraints[clause][counterLiteral]\n",
    "        except:\n",
    "            continue\n",
    "    return constraints,literal\n",
    "pickRandomLiteral(constraintDict,literalsDict,None)"
   ]
  },
  {
   "cell_type": "code",
   "execution_count": null,
   "metadata": {},
   "outputs": [],
   "source": []
  },
  {
   "cell_type": "code",
   "execution_count": null,
   "metadata": {},
   "outputs": [],
   "source": []
  }
 ],
 "metadata": {
  "kernelspec": {
   "display_name": "Python [conda env:Anaconda3]",
   "language": "python",
   "name": "conda-env-Anaconda3-py"
  },
  "language_info": {
   "codemirror_mode": {
    "name": "ipython",
    "version": 3
   },
   "file_extension": ".py",
   "mimetype": "text/x-python",
   "name": "python",
   "nbconvert_exporter": "python",
   "pygments_lexer": "ipython3",
   "version": "3.6.5"
  }
 },
 "nbformat": 4,
 "nbformat_minor": 2
}
