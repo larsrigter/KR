{
 "cells": [
  {
   "cell_type": "code",
   "execution_count": 7,
   "metadata": {},
   "outputs": [],
   "source": [
    "constraints=[\"111 112 113 114 115 116 117 118 119 0\",\n",
    "\"-111 -112 0\",\n",
    "\"-111 -113 0\",\n",
    "\"-111 -114 0\",\n",
    "\"-111 -115 0\",\n",
    "\"-111 -116 0\",\n",
    "\"-111 -117 0\",\n",
    "\"-111 -118 0\",\n",
    "]"
   ]
  },
  {
   "cell_type": "code",
   "execution_count": 42,
   "metadata": {},
   "outputs": [
    {
     "name": "stdout",
     "output_type": "stream",
     "text": [
      "{0: {111: False, 112: False, 113: False, 114: False, 115: False, 116: False, 117: False, 118: False, 119: False}, 1: {-111: False, -112: False}, 2: {-111: False, -113: False}, 3: {-111: False, -114: False}, 4: {-111: False, -115: False}, 5: {-111: False, -116: False}, 6: {-111: False, -117: False}, 7: {-111: False, -118: False}}\n"
     ]
    }
   ],
   "source": [
    "constraintDict={}\n",
    "literalsDict={}\n",
    "i=0\n",
    "for clause in constraints:\n",
    "    if i not in constraintDict.keys():\n",
    "        constraintDict[i]={}\n",
    "        \n",
    "    for literal in clause.split():\n",
    "        lit=int(literal)\n",
    "        if lit!=0:\n",
    "            constraintDict[i][lit]=False\n",
    "            if lit not in literalsDict.keys():\n",
    "                literalsDict[lit]=[i]\n",
    "            else:\n",
    "                literalsDict[lit].append(i)\n",
    "    i+=1\n",
    "print(constraintDict)\n",
    "# print(literalsDict)"
   ]
  },
  {
   "cell_type": "code",
   "execution_count": null,
   "metadata": {},
   "outputs": [],
   "source": [
    "assignments={}\n",
    "def DP(constraints):\n",
    "    if len(constraints)==0:\n",
    "#         print(\"satisfiable solution\")\n",
    "        return True\n",
    "   \n",
    "    if emptyClause(constraints):\n",
    "#         print(\"no satisfiability\")\n",
    "        return False\n",
    "    #maybe do it one time beforehand\n",
    "    hasFound,constraints=tautology(constraints):\n",
    "    if hasFound:\n",
    "        DP(constraints)\n",
    "        \n",
    "    hasFound,constraints=unitCl(constraints)\n",
    "    if hasFound:\n",
    "        DP(constraints)\n",
    "        \n",
    "    hasFound,constraints=pureLit(constraints)\n",
    "    if hasFound:\n",
    "        DP(constraints)\n",
    "                \n",
    "    reducedConstraints=pickRandomLiteral(constraints)\n",
    "    if DP(reducedConstraints)==True:\n",
    "#         print(\"satisfiable solution\")\n",
    "        return True\n",
    "    else:\n",
    "        DP(constraints)\n",
    "\n",
    "        "
   ]
  },
  {
   "cell_type": "code",
   "execution_count": 22,
   "metadata": {},
   "outputs": [],
   "source": [
    "def emptyClause(constraints):\n",
    "    for clause in constraints.keys():\n",
    "        if not constraints[clause]:\n",
    "            return True\n",
    "    return False"
   ]
  },
  {
   "cell_type": "code",
   "execution_count": 35,
   "metadata": {},
   "outputs": [],
   "source": [
    "def tautology(constraints):\n",
    "    foundOne=False\n",
    "    for clause in constraints.keys():\n",
    "        literals=list(constraints[clause].keys())\n",
    "        print(literals)\n",
    "        counterLiterals=[-x for x in literals]\n",
    "        \n",
    "        for i in literals:\n",
    "            for j in counterLiterals:\n",
    "            if i==j:\n",
    "                del constraints[clause]\n",
    "                foundOne=True\n",
    "    return foundOne,constraints\n",
    "        "
   ]
  },
  {
   "cell_type": "code",
   "execution_count": null,
   "metadata": {},
   "outputs": [],
   "source": [
    "def unitCl(constraints,literalsDict):\n",
    "    literals=[]\n",
    "    for clause in constraints.keys():\n",
    "        if len(constraints[clause].keys()==1):\n",
    "            literals.append(constraints[clause])\n",
    "            del constraints[clause]\n",
    "    for literal in literals:\n",
    "        clauses=literalsDict[literal]\n",
    "        for clause in clauses:\n",
    "            del constraintsDict[clause]\n",
    "    counterLiterals=[-x for x in literals]\n",
    "    for literal in counterLiterals:\n",
    "        clauses=literalsDict[literals]\n",
    "        for clause in clauses:\n",
    "            del constraintsDict[clause][literal]\n",
    "    \n",
    "    if len(units)>0: \n",
    "        return True,constraints\n",
    "    else:\n",
    "        return False,constraints"
   ]
  },
  {
   "cell_type": "code",
   "execution_count": null,
   "metadata": {},
   "outputs": [],
   "source": [
    "def pureLit(constraints,litDict):\n",
    "    foundOne=False\n",
    "    literals=list(litDict.keys())\n",
    "    doubleLiterals=[]\n",
    "    for i in literals:\n",
    "            for j in counterLiterals:\n",
    "                if i==j:\n",
    "                    doubleLiterals.append(i)\n",
    "    singelLiterals=[x for x in literals if x not in doubleLiterals]\n",
    "    clauses=[litDict[x] for x in singelLiterals]   \n",
    "    \n",
    "    for clause in clauses:\n",
    "        foundOne=True\n",
    "        del constraints[i]\n",
    "        \n",
    "    for literal in singleLiteral:\n",
    "        clauses=literalsDict[literal]\n",
    "            for clause in clauses:\n",
    "                del constraints[clause][literal]\n",
    "    return foundOne,constraints\n",
    "        "
   ]
  },
  {
   "cell_type": "code",
   "execution_count": null,
   "metadata": {},
   "outputs": [],
   "source": [
    "def pickRandomLiteral(constraints)"
   ]
  },
  {
   "cell_type": "code",
   "execution_count": null,
   "metadata": {},
   "outputs": [],
   "source": []
  }
 ],
 "metadata": {
  "kernelspec": {
   "display_name": "Python [conda env:Anaconda3]",
   "language": "python",
   "name": "conda-env-Anaconda3-py"
  },
  "language_info": {
   "codemirror_mode": {
    "name": "ipython",
    "version": 3
   },
   "file_extension": ".py",
   "mimetype": "text/x-python",
   "name": "python",
   "nbconvert_exporter": "python",
   "pygments_lexer": "ipython3",
   "version": "3.6.5"
  }
 },
 "nbformat": 4,
 "nbformat_minor": 2
}
